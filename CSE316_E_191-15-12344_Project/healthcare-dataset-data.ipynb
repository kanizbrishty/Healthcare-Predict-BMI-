{
 "cells": [
  {
   "cell_type": "markdown",
   "id": "88bdaeb4",
   "metadata": {},
   "source": [
    "# Import All the libraries\n"
   ]
  },
  {
   "cell_type": "code",
   "execution_count": 27,
   "id": "5c2f926e",
   "metadata": {},
   "outputs": [],
   "source": [
    "import numpy as np \n",
    "import pandas as pd\n",
    "import math\n",
    "import matplotlib.pyplot as plt\n",
    "import seaborn as sns\n",
    "from sklearn.model_selection import train_test_split\n",
    "from sklearn.linear_model import LinearRegression\n",
    "from sklearn import preprocessing"
   ]
  },
  {
   "cell_type": "markdown",
   "id": "13ae23dd",
   "metadata": {},
   "source": [
    "# Read Dataset"
   ]
  },
  {
   "cell_type": "code",
   "execution_count": 28,
   "id": "least-element",
   "metadata": {},
   "outputs": [],
   "source": [
    "data=pd.read_csv('healthcare-dataset--data.csv')"
   ]
  },
  {
   "cell_type": "code",
   "execution_count": 29,
   "id": "arbitrary-record",
   "metadata": {},
   "outputs": [
    {
     "data": {
      "text/html": [
       "<div>\n",
       "<style scoped>\n",
       "    .dataframe tbody tr th:only-of-type {\n",
       "        vertical-align: middle;\n",
       "    }\n",
       "\n",
       "    .dataframe tbody tr th {\n",
       "        vertical-align: top;\n",
       "    }\n",
       "\n",
       "    .dataframe thead th {\n",
       "        text-align: right;\n",
       "    }\n",
       "</style>\n",
       "<table border=\"1\" class=\"dataframe\">\n",
       "  <thead>\n",
       "    <tr style=\"text-align: right;\">\n",
       "      <th></th>\n",
       "      <th>gender</th>\n",
       "      <th>age</th>\n",
       "      <th>Residence_type</th>\n",
       "      <th>hypertension</th>\n",
       "      <th>heart_disease</th>\n",
       "      <th>avg_glucose_level</th>\n",
       "      <th>stroke</th>\n",
       "      <th>smoking_status</th>\n",
       "      <th>bmi</th>\n",
       "    </tr>\n",
       "  </thead>\n",
       "  <tbody>\n",
       "    <tr>\n",
       "      <th>0</th>\n",
       "      <td>Male</td>\n",
       "      <td>67.0</td>\n",
       "      <td>Urban</td>\n",
       "      <td>0</td>\n",
       "      <td>1</td>\n",
       "      <td>228.69</td>\n",
       "      <td>1</td>\n",
       "      <td>formerly smoked</td>\n",
       "      <td>36.6</td>\n",
       "    </tr>\n",
       "    <tr>\n",
       "      <th>1</th>\n",
       "      <td>Male</td>\n",
       "      <td>80.0</td>\n",
       "      <td>Rural</td>\n",
       "      <td>0</td>\n",
       "      <td>1</td>\n",
       "      <td>105.92</td>\n",
       "      <td>1</td>\n",
       "      <td>never smoked</td>\n",
       "      <td>32.5</td>\n",
       "    </tr>\n",
       "    <tr>\n",
       "      <th>2</th>\n",
       "      <td>Female</td>\n",
       "      <td>49.0</td>\n",
       "      <td>Urban</td>\n",
       "      <td>0</td>\n",
       "      <td>0</td>\n",
       "      <td>171.23</td>\n",
       "      <td>1</td>\n",
       "      <td>smokes</td>\n",
       "      <td>34.4</td>\n",
       "    </tr>\n",
       "    <tr>\n",
       "      <th>3</th>\n",
       "      <td>Female</td>\n",
       "      <td>79.0</td>\n",
       "      <td>Rural</td>\n",
       "      <td>1</td>\n",
       "      <td>0</td>\n",
       "      <td>174.12</td>\n",
       "      <td>1</td>\n",
       "      <td>never smoked</td>\n",
       "      <td>24.0</td>\n",
       "    </tr>\n",
       "    <tr>\n",
       "      <th>4</th>\n",
       "      <td>Male</td>\n",
       "      <td>81.0</td>\n",
       "      <td>Urban</td>\n",
       "      <td>0</td>\n",
       "      <td>0</td>\n",
       "      <td>186.21</td>\n",
       "      <td>1</td>\n",
       "      <td>formerly smoked</td>\n",
       "      <td>29.0</td>\n",
       "    </tr>\n",
       "  </tbody>\n",
       "</table>\n",
       "</div>"
      ],
      "text/plain": [
       "   gender   age Residence_type  hypertension  heart_disease  \\\n",
       "0    Male  67.0          Urban             0              1   \n",
       "1    Male  80.0          Rural             0              1   \n",
       "2  Female  49.0          Urban             0              0   \n",
       "3  Female  79.0          Rural             1              0   \n",
       "4    Male  81.0          Urban             0              0   \n",
       "\n",
       "   avg_glucose_level  stroke   smoking_status   bmi  \n",
       "0             228.69       1  formerly smoked  36.6  \n",
       "1             105.92       1     never smoked  32.5  \n",
       "2             171.23       1           smokes  34.4  \n",
       "3             174.12       1     never smoked  24.0  \n",
       "4             186.21       1  formerly smoked  29.0  "
      ]
     },
     "execution_count": 29,
     "metadata": {},
     "output_type": "execute_result"
    }
   ],
   "source": [
    "data.head()"
   ]
  },
  {
   "cell_type": "markdown",
   "id": "86463b0c",
   "metadata": {},
   "source": [
    "# Shape of the dataset"
   ]
  },
  {
   "cell_type": "code",
   "execution_count": 30,
   "id": "planned-committee",
   "metadata": {},
   "outputs": [
    {
     "data": {
      "text/plain": [
       "(866, 9)"
      ]
     },
     "execution_count": 30,
     "metadata": {},
     "output_type": "execute_result"
    }
   ],
   "source": [
    "data.shape"
   ]
  },
  {
   "cell_type": "markdown",
   "id": "01d9aa4d",
   "metadata": {},
   "source": [
    "# Check the NULL value in dataset"
   ]
  },
  {
   "cell_type": "code",
   "execution_count": 31,
   "id": "imposed-afternoon",
   "metadata": {},
   "outputs": [
    {
     "data": {
      "text/plain": [
       "gender               0\n",
       "age                  0\n",
       "Residence_type       0\n",
       "hypertension         0\n",
       "heart_disease        0\n",
       "avg_glucose_level    0\n",
       "stroke               0\n",
       "smoking_status       0\n",
       "bmi                  0\n",
       "dtype: int64"
      ]
     },
     "execution_count": 31,
     "metadata": {},
     "output_type": "execute_result"
    }
   ],
   "source": [
    "data.isnull().sum()"
   ]
  },
  {
   "cell_type": "code",
   "execution_count": 32,
   "id": "relevant-hughes",
   "metadata": {},
   "outputs": [
    {
     "data": {
      "image/png": "[encoded data removed]",
      "text/plain": [
       "<Figure size 360x360 with 1 Axes>"
      ]
     },
     "metadata": {
      "needs_background": "light"
     },
     "output_type": "display_data"
    }
   ],
   "source": [
    "plt.figure(figsize=(5,5))\n",
    "plt.grid()\n",
    "sns.countplot(x='gender', data= data)\n",
    "plt.title(\"Gender\", fontsize=15)\n",
    "plt.show()"
   ]
  },
  {
   "cell_type": "code",
   "execution_count": 33,
   "id": "systematic-geneva",
   "metadata": {},
   "outputs": [
    {
     "data": {
      "image/png": "[encoded data removed]",
      "text/plain": [
       "<Figure size 360x360 with 1 Axes>"
      ]
     },
     "metadata": {
      "needs_background": "light"
     },
     "output_type": "display_data"
    }
   ],
   "source": [
    "plt.figure(figsize=(5,5))\n",
    "plt.grid()\n",
    "sns.countplot(x='Residence_type', data= data)\n",
    "plt.title(\"Residence_type\", fontsize=15)\n",
    "plt.show()"
   ]
  },
  {
   "cell_type": "code",
   "execution_count": 34,
   "id": "rolled-hundred",
   "metadata": {},
   "outputs": [
    {
     "data": {
      "image/png": "[encoded data removed]",
      "text/plain": [
       "<Figure size 360x360 with 1 Axes>"
      ]
     },
     "metadata": {
      "needs_background": "light"
     },
     "output_type": "display_data"
    }
   ],
   "source": [
    "plt.figure(figsize=(5,5))\n",
    "plt.grid()\n",
    "sns.countplot(x='smoking_status', data= data)\n",
    "plt.title(\"Smoking_status\", fontsize=15)\n",
    "plt.show()"
   ]
  },
  {
   "cell_type": "code",
   "execution_count": 35,
   "id": "generic-earth",
   "metadata": {},
   "outputs": [
    {
     "data": {
      "image/png": "[encoded data removed]",
      "text/plain": [
       "<Figure size 360x360 with 1 Axes>"
      ]
     },
     "metadata": {
      "needs_background": "light"
     },
     "output_type": "display_data"
    }
   ],
   "source": [
    "plt.figure(figsize=(5,5))\n",
    "plt.grid()\n",
    "sns.countplot(x='hypertension', data= data)\n",
    "plt.title(\"Hypertension\", fontsize=15)\n",
    "plt.show()"
   ]
  },
  {
   "cell_type": "code",
   "execution_count": 36,
   "id": "accredited-representative",
   "metadata": {},
   "outputs": [
    {
     "data": {
      "image/png": "[encoded data removed]",
      "text/plain": [
       "<Figure size 360x360 with 1 Axes>"
      ]
     },
     "metadata": {
      "needs_background": "light"
     },
     "output_type": "display_data"
    }
   ],
   "source": [
    "plt.figure(figsize=(5,5))\n",
    "plt.grid()\n",
    "sns.countplot(x='heart_disease', data= data)\n",
    "plt.title(\"Heart_disease\", fontsize=15)\n",
    "plt.show()"
   ]
  },
  {
   "cell_type": "code",
   "execution_count": 37,
   "id": "dense-morocco",
   "metadata": {},
   "outputs": [
    {
     "data": {
      "image/png": "[encoded data removed]",
      "text/plain": [
       "<Figure size 360x360 with 1 Axes>"
      ]
     },
     "metadata": {
      "needs_background": "light"
     },
     "output_type": "display_data"
    }
   ],
   "source": [
    "plt.figure(figsize=(5,5))\n",
    "plt.grid()\n",
    "sns.countplot(x='stroke', data= data)\n",
    "plt.title(\"Stroke\", fontsize=15)\n",
    "plt.show()"
   ]
  },
  {
   "cell_type": "code",
   "execution_count": 38,
   "id": "reported-delhi",
   "metadata": {},
   "outputs": [
    {
     "data": {
      "image/png": "[encoded data removed]",
      "text/plain": [
       "<Figure size 360x360 with 1 Axes>"
      ]
     },
     "metadata": {
      "needs_background": "light"
     },
     "output_type": "display_data"
    }
   ],
   "source": [
    "plt.figure(figsize=(5,5))\n",
    "plt.grid()\n",
    "sns.countplot(x='smoking_status', data= data)\n",
    "plt.title(\"smoking_status\", fontsize=15)\n",
    "plt.show()"
   ]
  },
  {
   "cell_type": "code",
   "execution_count": 39,
   "id": "precious-reception",
   "metadata": {},
   "outputs": [
    {
     "data": {
      "image/png": "[encoded data removed]",
      "text/plain": [
       "<Figure size 1080x360 with 1 Axes>"
      ]
     },
     "metadata": {
      "needs_background": "light"
     },
     "output_type": "display_data"
    }
   ],
   "source": [
    "plt.figure(figsize=(15,5))\n",
    "plt.grid()\n",
    "sns.histplot(data['avg_glucose_level'])\n",
    "plt.title(\"Avg_glucose_level\", fontsize=15)\n",
    "plt.show()"
   ]
  },
  {
   "cell_type": "markdown",
   "id": "9e2d0f91",
   "metadata": {},
   "source": [
    "# Single Linear Regression Model"
   ]
  },
  {
   "cell_type": "code",
   "execution_count": 40,
   "id": "collected-cardiff",
   "metadata": {},
   "outputs": [],
   "source": [
    "X = data.loc[:, data.columns=='age']\n",
    "y = data.loc[:, data.columns=='bmi']\n",
    "X_train, X_test, y_train, y_test = train_test_split(X, y, test_size=0.1, random_state=1234)"
   ]
  },
  {
   "cell_type": "markdown",
   "id": "f57b6fa6",
   "metadata": {},
   "source": [
    "# Prediction of bmi "
   ]
  },
  {
   "cell_type": "code",
   "execution_count": 41,
   "id": "moved-budget",
   "metadata": {},
   "outputs": [
    {
     "data": {
      "text/plain": [
       "array([[28.61997778],\n",
       "       [31.78681835],\n",
       "       [31.73490293],\n",
       "       [31.68298751],\n",
       "       [31.83873377],\n",
       "       [30.22935578],\n",
       "       [29.81403242],\n",
       "       [28.30848527],\n",
       "       [31.42341042],\n",
       "       [28.82763946],\n",
       "       [31.47532584],\n",
       "       [30.33318662],\n",
       "       [31.78681835],\n",
       "       [30.90425623],\n",
       "       [30.33318662],\n",
       "       [31.26766416],\n",
       "       [28.77572404],\n",
       "       [30.80042539],\n",
       "       [28.25656985],\n",
       "       [30.64467913],\n",
       "       [28.36040069],\n",
       "       [30.22935578],\n",
       "       [30.48893287],\n",
       "       [30.90425623],\n",
       "       [31.63107209],\n",
       "       [31.78681835],\n",
       "       [29.19104739],\n",
       "       [29.60637075],\n",
       "       [30.48893287],\n",
       "       [29.76211701],\n",
       "       [30.2812712 ],\n",
       "       [28.10082359],\n",
       "       [29.96977868],\n",
       "       [29.29487823],\n",
       "       [31.73490293],\n",
       "       [28.41231611],\n",
       "       [30.54084829],\n",
       "       [30.69659455],\n",
       "       [31.00808706],\n",
       "       [30.85234081],\n",
       "       [30.95617165],\n",
       "       [30.95617165],\n",
       "       [29.55445533],\n",
       "       [28.25656985],\n",
       "       [31.57915668],\n",
       "       [31.73490293],\n",
       "       [30.07360952],\n",
       "       [30.38510203],\n",
       "       [28.77572404],\n",
       "       [30.17744036],\n",
       "       [28.56806236],\n",
       "       [31.63107209],\n",
       "       [31.78681835],\n",
       "       [31.31957958],\n",
       "       [29.65828617],\n",
       "       [30.07360952],\n",
       "       [31.63107209],\n",
       "       [31.16383332],\n",
       "       [30.54084829],\n",
       "       [30.64467913],\n",
       "       [29.19104739],\n",
       "       [31.47532584],\n",
       "       [29.19104739],\n",
       "       [27.8412465 ],\n",
       "       [28.98338572],\n",
       "       [31.73490293],\n",
       "       [29.45062449],\n",
       "       [30.74850997],\n",
       "       [30.22935578],\n",
       "       [28.25656985],\n",
       "       [30.64467913],\n",
       "       [30.2812712 ],\n",
       "       [30.90425623],\n",
       "       [30.54084829],\n",
       "       [30.95617165],\n",
       "       [31.42341042],\n",
       "       [30.54084829],\n",
       "       [30.22935578],\n",
       "       [31.52724126],\n",
       "       [31.1119179 ],\n",
       "       [28.46423153],\n",
       "       [29.71020159],\n",
       "       [28.25656985],\n",
       "       [29.86594784],\n",
       "       [30.07360952],\n",
       "       [30.22935578],\n",
       "       [28.20465443]])"
      ]
     },
     "execution_count": 41,
     "metadata": {},
     "output_type": "execute_result"
    }
   ],
   "source": [
    "slr = LinearRegression()\n",
    "slr.fit(X_train, y_train)\n",
    "y_pred = slr.predict(X_test)\n",
    "y_pred"
   ]
  },
  {
   "cell_type": "code",
   "execution_count": 42,
   "id": "thirty-nashville",
   "metadata": {},
   "outputs": [
    {
     "data": {
      "text/html": [
       "<div>\n",
       "<style scoped>\n",
       "    .dataframe tbody tr th:only-of-type {\n",
       "        vertical-align: middle;\n",
       "    }\n",
       "\n",
       "    .dataframe tbody tr th {\n",
       "        vertical-align: top;\n",
       "    }\n",
       "\n",
       "    .dataframe thead th {\n",
       "        text-align: right;\n",
       "    }\n",
       "</style>\n",
       "<table border=\"1\" class=\"dataframe\">\n",
       "  <thead>\n",
       "    <tr style=\"text-align: right;\">\n",
       "      <th></th>\n",
       "      <th>gender</th>\n",
       "      <th>age</th>\n",
       "      <th>Residence_type</th>\n",
       "      <th>hypertension</th>\n",
       "      <th>heart_disease</th>\n",
       "      <th>avg_glucose_level</th>\n",
       "      <th>stroke</th>\n",
       "      <th>smoking_status</th>\n",
       "      <th>bmi</th>\n",
       "    </tr>\n",
       "  </thead>\n",
       "  <tbody>\n",
       "    <tr>\n",
       "      <th>0</th>\n",
       "      <td>Male</td>\n",
       "      <td>67.0</td>\n",
       "      <td>Urban</td>\n",
       "      <td>0</td>\n",
       "      <td>1</td>\n",
       "      <td>228.69</td>\n",
       "      <td>1</td>\n",
       "      <td>formerly smoked</td>\n",
       "      <td>36.6</td>\n",
       "    </tr>\n",
       "    <tr>\n",
       "      <th>1</th>\n",
       "      <td>Male</td>\n",
       "      <td>80.0</td>\n",
       "      <td>Rural</td>\n",
       "      <td>0</td>\n",
       "      <td>1</td>\n",
       "      <td>105.92</td>\n",
       "      <td>1</td>\n",
       "      <td>never smoked</td>\n",
       "      <td>32.5</td>\n",
       "    </tr>\n",
       "    <tr>\n",
       "      <th>2</th>\n",
       "      <td>Female</td>\n",
       "      <td>49.0</td>\n",
       "      <td>Urban</td>\n",
       "      <td>0</td>\n",
       "      <td>0</td>\n",
       "      <td>171.23</td>\n",
       "      <td>1</td>\n",
       "      <td>smokes</td>\n",
       "      <td>34.4</td>\n",
       "    </tr>\n",
       "    <tr>\n",
       "      <th>3</th>\n",
       "      <td>Female</td>\n",
       "      <td>79.0</td>\n",
       "      <td>Rural</td>\n",
       "      <td>1</td>\n",
       "      <td>0</td>\n",
       "      <td>174.12</td>\n",
       "      <td>1</td>\n",
       "      <td>never smoked</td>\n",
       "      <td>24.0</td>\n",
       "    </tr>\n",
       "    <tr>\n",
       "      <th>4</th>\n",
       "      <td>Male</td>\n",
       "      <td>81.0</td>\n",
       "      <td>Urban</td>\n",
       "      <td>0</td>\n",
       "      <td>0</td>\n",
       "      <td>186.21</td>\n",
       "      <td>1</td>\n",
       "      <td>formerly smoked</td>\n",
       "      <td>29.0</td>\n",
       "    </tr>\n",
       "  </tbody>\n",
       "</table>\n",
       "</div>"
      ],
      "text/plain": [
       "   gender   age Residence_type  hypertension  heart_disease  \\\n",
       "0    Male  67.0          Urban             0              1   \n",
       "1    Male  80.0          Rural             0              1   \n",
       "2  Female  49.0          Urban             0              0   \n",
       "3  Female  79.0          Rural             1              0   \n",
       "4    Male  81.0          Urban             0              0   \n",
       "\n",
       "   avg_glucose_level  stroke   smoking_status   bmi  \n",
       "0             228.69       1  formerly smoked  36.6  \n",
       "1             105.92       1     never smoked  32.5  \n",
       "2             171.23       1           smokes  34.4  \n",
       "3             174.12       1     never smoked  24.0  \n",
       "4             186.21       1  formerly smoked  29.0  "
      ]
     },
     "execution_count": 42,
     "metadata": {},
     "output_type": "execute_result"
    }
   ],
   "source": [
    "data.head()"
   ]
  },
  {
   "cell_type": "markdown",
   "id": "4e8ba366",
   "metadata": {},
   "source": [
    "# LabelEncoder"
   ]
  },
  {
   "cell_type": "code",
   "execution_count": 43,
   "id": "sustained-bristol",
   "metadata": {},
   "outputs": [],
   "source": [
    "le = preprocessing.LabelEncoder()\n",
    "data['gender']=le.fit_transform(data['gender'])\n",
    "data['Residence_type']=le.fit_transform(data['Residence_type'])\n",
    "data['smoking_status']=le.fit_transform(data['smoking_status'])"
   ]
  },
  {
   "cell_type": "code",
   "execution_count": 44,
   "id": "express-institute",
   "metadata": {},
   "outputs": [
    {
     "data": {
      "text/html": [
       "<div>\n",
       "<style scoped>\n",
       "    .dataframe tbody tr th:only-of-type {\n",
       "        vertical-align: middle;\n",
       "    }\n",
       "\n",
       "    .dataframe tbody tr th {\n",
       "        vertical-align: top;\n",
       "    }\n",
       "\n",
       "    .dataframe thead th {\n",
       "        text-align: right;\n",
       "    }\n",
       "</style>\n",
       "<table border=\"1\" class=\"dataframe\">\n",
       "  <thead>\n",
       "    <tr style=\"text-align: right;\">\n",
       "      <th></th>\n",
       "      <th>gender</th>\n",
       "      <th>age</th>\n",
       "      <th>Residence_type</th>\n",
       "      <th>hypertension</th>\n",
       "      <th>heart_disease</th>\n",
       "      <th>avg_glucose_level</th>\n",
       "      <th>stroke</th>\n",
       "      <th>smoking_status</th>\n",
       "      <th>bmi</th>\n",
       "    </tr>\n",
       "  </thead>\n",
       "  <tbody>\n",
       "    <tr>\n",
       "      <th>0</th>\n",
       "      <td>1</td>\n",
       "      <td>67.0</td>\n",
       "      <td>1</td>\n",
       "      <td>0</td>\n",
       "      <td>1</td>\n",
       "      <td>228.69</td>\n",
       "      <td>1</td>\n",
       "      <td>1</td>\n",
       "      <td>36.6</td>\n",
       "    </tr>\n",
       "    <tr>\n",
       "      <th>1</th>\n",
       "      <td>1</td>\n",
       "      <td>80.0</td>\n",
       "      <td>0</td>\n",
       "      <td>0</td>\n",
       "      <td>1</td>\n",
       "      <td>105.92</td>\n",
       "      <td>1</td>\n",
       "      <td>2</td>\n",
       "      <td>32.5</td>\n",
       "    </tr>\n",
       "    <tr>\n",
       "      <th>2</th>\n",
       "      <td>0</td>\n",
       "      <td>49.0</td>\n",
       "      <td>1</td>\n",
       "      <td>0</td>\n",
       "      <td>0</td>\n",
       "      <td>171.23</td>\n",
       "      <td>1</td>\n",
       "      <td>3</td>\n",
       "      <td>34.4</td>\n",
       "    </tr>\n",
       "    <tr>\n",
       "      <th>3</th>\n",
       "      <td>0</td>\n",
       "      <td>79.0</td>\n",
       "      <td>0</td>\n",
       "      <td>1</td>\n",
       "      <td>0</td>\n",
       "      <td>174.12</td>\n",
       "      <td>1</td>\n",
       "      <td>2</td>\n",
       "      <td>24.0</td>\n",
       "    </tr>\n",
       "    <tr>\n",
       "      <th>4</th>\n",
       "      <td>1</td>\n",
       "      <td>81.0</td>\n",
       "      <td>1</td>\n",
       "      <td>0</td>\n",
       "      <td>0</td>\n",
       "      <td>186.21</td>\n",
       "      <td>1</td>\n",
       "      <td>1</td>\n",
       "      <td>29.0</td>\n",
       "    </tr>\n",
       "  </tbody>\n",
       "</table>\n",
       "</div>"
      ],
      "text/plain": [
       "   gender   age  Residence_type  hypertension  heart_disease  \\\n",
       "0       1  67.0               1             0              1   \n",
       "1       1  80.0               0             0              1   \n",
       "2       0  49.0               1             0              0   \n",
       "3       0  79.0               0             1              0   \n",
       "4       1  81.0               1             0              0   \n",
       "\n",
       "   avg_glucose_level  stroke  smoking_status   bmi  \n",
       "0             228.69       1               1  36.6  \n",
       "1             105.92       1               2  32.5  \n",
       "2             171.23       1               3  34.4  \n",
       "3             174.12       1               2  24.0  \n",
       "4             186.21       1               1  29.0  "
      ]
     },
     "execution_count": 44,
     "metadata": {},
     "output_type": "execute_result"
    }
   ],
   "source": [
    "data.head()"
   ]
  },
  {
   "cell_type": "markdown",
   "id": "a1fa8e18",
   "metadata": {},
   "source": [
    "# Multiple Linear Regression"
   ]
  },
  {
   "cell_type": "code",
   "execution_count": 45,
   "id": "d5377b95",
   "metadata": {},
   "outputs": [
    {
     "data": {
      "text/plain": [
       "LinearRegression()"
      ]
     },
     "execution_count": 45,
     "metadata": {},
     "output_type": "execute_result"
    }
   ],
   "source": [
    "reg=LinearRegression()\n",
    "reg.fit(data[['gender','age','Residence_type','hypertension','heart_disease','avg_glucose_level','stroke','smoking_status']],data.bmi)"
   ]
  },
  {
   "cell_type": "markdown",
   "id": "793fc4ed",
   "metadata": {},
   "source": [
    "# Prediction OF BMI using Multiple Linear Regression"
   ]
  },
  {
   "cell_type": "code",
   "execution_count": 46,
   "id": "constitutional-nirvana",
   "metadata": {},
   "outputs": [
    {
     "data": {
      "text/plain": [
       "array([31.33565495])"
      ]
     },
     "execution_count": 46,
     "metadata": {},
     "output_type": "execute_result"
    }
   ],
   "source": [
    "reg.predict([[1,25.700,1,1,1,175.5,1,3]])"
   ]
  },
  {
   "cell_type": "code",
   "execution_count": null,
   "id": "f94b94eb",
   "metadata": {},
   "outputs": [],
   "source": []
  },
  {
   "cell_type": "code",
   "execution_count": null,
   "id": "afe18475",
   "metadata": {},
   "outputs": [],
   "source": []
  },
  {
   "cell_type": "code",
   "execution_count": null,
   "id": "cbee57c9",
   "metadata": {},
   "outputs": [],
   "source": []
  }
 ],
 "metadata": {
  "kernelspec": {
   "display_name": "Python 3",
   "language": "python",
   "name": "python3"
  },
  "language_info": {
   "codemirror_mode": {
    "name": "ipython",
    "version": 3
   },
   "file_extension": ".py",
   "mimetype": "text/x-python",
   "name": "python",
   "nbconvert_exporter": "python",
   "pygments_lexer": "ipython3",
   "version": "3.9.4"
  }
 },
 "nbformat": 4,
 "nbformat_minor": 5
}
